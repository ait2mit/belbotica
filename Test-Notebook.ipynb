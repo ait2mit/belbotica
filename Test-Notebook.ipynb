{
 "cells": [
  {
   "cell_type": "code",
   "execution_count": 11,
   "metadata": {},
   "outputs": [],
   "source": [
    "import pandas as pd\n"
   ]
  },
  {
   "cell_type": "code",
   "execution_count": 12,
   "metadata": {},
   "outputs": [],
   "source": [
    "text_df=pd.read_csv('text_source_for_web.csv')"
   ]
  },
  {
   "cell_type": "code",
   "execution_count": 13,
   "metadata": {},
   "outputs": [
    {
     "data": {
      "text/html": [
       "<div>\n",
       "<style scoped>\n",
       "    .dataframe tbody tr th:only-of-type {\n",
       "        vertical-align: middle;\n",
       "    }\n",
       "\n",
       "    .dataframe tbody tr th {\n",
       "        vertical-align: top;\n",
       "    }\n",
       "\n",
       "    .dataframe thead th {\n",
       "        text-align: right;\n",
       "    }\n",
       "</style>\n",
       "<table border=\"1\" class=\"dataframe\">\n",
       "  <thead>\n",
       "    <tr style=\"text-align: right;\">\n",
       "      <th></th>\n",
       "      <th>Main_Category</th>\n",
       "      <th>description_texts1</th>\n",
       "      <th>description_texts2</th>\n",
       "      <th>description_texts3</th>\n",
       "      <th>description_texts4</th>\n",
       "    </tr>\n",
       "  </thead>\n",
       "  <tbody>\n",
       "    <tr>\n",
       "      <th>0</th>\n",
       "      <td>Undergraduate Student in Engineering</td>\n",
       "      <td>It's great to know that you are studying Engin...</td>\n",
       "      <td>If you study any engineering that does not tea...</td>\n",
       "      <td>We strongly recommend you that try to keep you...</td>\n",
       "      <td>NaN</td>\n",
       "    </tr>\n",
       "    <tr>\n",
       "      <th>1</th>\n",
       "      <td>Undergraduate Student in Science</td>\n",
       "      <td>It's great to know that you are studying in Su...</td>\n",
       "      <td>If you have some knowledge about these concept...</td>\n",
       "      <td>If you study any science that does not teach ...</td>\n",
       "      <td>We strongly recommend you that try to keep you...</td>\n",
       "    </tr>\n",
       "    <tr>\n",
       "      <th>2</th>\n",
       "      <td>Undergraduate Student in Business/Commerce</td>\n",
       "      <td>Continue your education and make sure your you...</td>\n",
       "      <td>NaN</td>\n",
       "      <td>NaN</td>\n",
       "      <td>NaN</td>\n",
       "    </tr>\n",
       "    <tr>\n",
       "      <th>3</th>\n",
       "      <td>Undergraduate Student in Arts</td>\n",
       "      <td>Continue your education and make sure your you...</td>\n",
       "      <td>NaN</td>\n",
       "      <td>NaN</td>\n",
       "      <td>NaN</td>\n",
       "    </tr>\n",
       "    <tr>\n",
       "      <th>4</th>\n",
       "      <td>Bachelor  in Engineering</td>\n",
       "      <td>Continue your education and make sure your you...</td>\n",
       "      <td>NaN</td>\n",
       "      <td>NaN</td>\n",
       "      <td>NaN</td>\n",
       "    </tr>\n",
       "  </tbody>\n",
       "</table>\n",
       "</div>"
      ],
      "text/plain": [
       "                                Main_Category  \\\n",
       "0        Undergraduate Student in Engineering   \n",
       "1            Undergraduate Student in Science   \n",
       "2  Undergraduate Student in Business/Commerce   \n",
       "3               Undergraduate Student in Arts   \n",
       "4                    Bachelor  in Engineering   \n",
       "\n",
       "                                  description_texts1  \\\n",
       "0  It's great to know that you are studying Engin...   \n",
       "1  It's great to know that you are studying in Su...   \n",
       "2  Continue your education and make sure your you...   \n",
       "3  Continue your education and make sure your you...   \n",
       "4  Continue your education and make sure your you...   \n",
       "\n",
       "                                  description_texts2  \\\n",
       "0  If you study any engineering that does not tea...   \n",
       "1  If you have some knowledge about these concept...   \n",
       "2                                                NaN   \n",
       "3                                                NaN   \n",
       "4                                                NaN   \n",
       "\n",
       "                                  description_texts3  \\\n",
       "0  We strongly recommend you that try to keep you...   \n",
       "1   If you study any science that does not teach ...   \n",
       "2                                                NaN   \n",
       "3                                                NaN   \n",
       "4                                                NaN   \n",
       "\n",
       "                                  description_texts4  \n",
       "0                                                NaN  \n",
       "1  We strongly recommend you that try to keep you...  \n",
       "2                                                NaN  \n",
       "3                                                NaN  \n",
       "4                                                NaN  "
      ]
     },
     "execution_count": 13,
     "metadata": {},
     "output_type": "execute_result"
    }
   ],
   "source": [
    "text_df.head()"
   ]
  },
  {
   "cell_type": "code",
   "execution_count": 17,
   "metadata": {},
   "outputs": [
    {
     "data": {
      "text/plain": [
       "Main_Category                      Undergraduate Student in Engineering\n",
       "description_texts1    It's great to know that you are studying Engin...\n",
       "description_texts2    If you study any engineering that does not tea...\n",
       "description_texts3    We strongly recommend you that try to keep you...\n",
       "description_texts4                                                  NaN\n",
       "Name: 0, dtype: object"
      ]
     },
     "execution_count": 17,
     "metadata": {},
     "output_type": "execute_result"
    }
   ],
   "source": [
    "text_df.iloc[0]"
   ]
  },
  {
   "cell_type": "code",
   "execution_count": 9,
   "metadata": {},
   "outputs": [
    {
     "data": {
      "text/plain": [
       "'Continue your education and make sure your your CGPA does not go below \\\\\\n                    3.5Continue your education and make sure your your CGPA does not go below \\\\\\r\\n                    3.5Continue your education and make sure your your CGPA does not go below\\\\\\r\\n                     3.5Continue your education and make sure your your CGPA does not go below \\\\\\r\\n                     3.5Continue your education and make sure your your CGPA does not go below \\\\\\r\\n                     3.5Continue your education and make sure your your CGPA does not go below \\\\\\r\\n                     3.5Continue your education and make sure your your CGPA does not go below\\\\\\r\\n                      3.5Continue your education and make sure your your CGPA does not go below \\\\\\r\\n                      3.5Continue your education and make sure your your CGPA does not go below \\\\\\r\\n                      3.5Continue your education and make sure your your CGPA does not go below \\\\\\r\\n                      3.5Continue your education and make sure your your CGPA does not go below \\\\\\r\\n                      3.5Continue your education and make sure your your CGPA does not go below \\\\\\r\\n                      3.5Continue your education and make sure your your CGPA does not go below\\\\\\r\\n                       3.5Continue your education and make sure your your CGPA does not go below\\\\\\r\\n                        3.5Continue your education and make sure your your CGPA does not go below 3.5'"
      ]
     },
     "execution_count": 9,
     "metadata": {},
     "output_type": "execute_result"
    }
   ],
   "source": [
    "text_df['Description_Texts'][0]"
   ]
  },
  {
   "cell_type": "code",
   "execution_count": 8,
   "metadata": {},
   "outputs": [
    {
     "data": {
      "text/plain": [
       "['Undergraduate Student in Engineering',\n",
       " 'Undergraduate Student in Science',\n",
       " 'Undergraduate Student in Business/Commerce',\n",
       " 'Undergraduate Student in Arts',\n",
       " 'Bachelor  in Engineering',\n",
       " 'Bachelor  in Science',\n",
       " 'Bachelor  in Business/Commerce',\n",
       " 'Bachelor in Arts',\n",
       " 'Masters  in Engineering',\n",
       " 'Masters  in Science',\n",
       " 'Masters  in Business/Commerce',\n",
       " 'Masters in Arts',\n",
       " 'PhD  in Engineering',\n",
       " 'PhD  in Science',\n",
       " 'PhD  in Business/Commerce',\n",
       " 'PhD in Arts',\n",
       " 'Postdoc  in Engineering',\n",
       " 'Postdoc  in Science',\n",
       " 'Postdoc  in Business/Commerce',\n",
       " 'Postdoc in Arts']"
      ]
     },
     "execution_count": 8,
     "metadata": {},
     "output_type": "execute_result"
    }
   ],
   "source": [
    "text_df['Degree'].values.tolist()"
   ]
  },
  {
   "cell_type": "code",
   "execution_count": null,
   "metadata": {},
   "outputs": [],
   "source": []
  }
 ],
 "metadata": {
  "kernelspec": {
   "display_name": "Python 3",
   "language": "python",
   "name": "python3"
  },
  "language_info": {
   "codemirror_mode": {
    "name": "ipython",
    "version": 3
   },
   "file_extension": ".py",
   "mimetype": "text/x-python",
   "name": "python",
   "nbconvert_exporter": "python",
   "pygments_lexer": "ipython3",
   "version": "3.6.9"
  }
 },
 "nbformat": 4,
 "nbformat_minor": 2
}
